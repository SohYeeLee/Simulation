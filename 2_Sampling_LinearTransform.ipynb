{
 "cells": [
  {
   "cell_type": "markdown",
   "metadata": {},
   "source": [
    "This exercise shows how to draw samples from a multivariate $N$ vector using 2 different methods, where $N$ \\~ $N(\\mu, V)$, $\\mu = [0.1, 0.5]^T, V = [[1.0, 0.2], [0.2, 1.0]]$:\n",
    "1. draw samples from standard normal distribution (where $\\mu = 0, V = 1$), then apply linear transformation to target normal distribution using: $\\mu + EN$, where $V = EE^T$\n",
    "2. using the method provided in numpy to draw samples from $\\mu, V$"
   ]
  },
  {
   "cell_type": "code",
   "execution_count": null,
   "metadata": {},
   "outputs": [],
   "source": [
    "import numpy as np\n",
    "import matplotlib.cm as cm\n",
    "import matplotlib.mlab as mlab\n",
    "import matplotlib.pyplot as plt\n",
    "from mpl_toolkits.mplot3d import Axes3D\n",
    "\n",
    "# given mean and variance\n",
    "mu_given  = np.array([0.1, 0.5])\n",
    "V_given   = np.array([[1.0, 0.2], [0.2, 1.0]])\n",
    "\n",
    "# standard mean and variance\n",
    "mu_std  = np.array([0.0, 0.0])\n",
    "V_std   = np.array([[1.0, 0.0], [0.0, 1.0]])\n",
    "\n",
    "# no of samples to generate\n",
    "no_samples = 10000\n",
    "\n",
    "# method 1: draw sample from multivariate normal without transformation\n",
    "# X and Y here are the array of points\n",
    "X_no_trans, Y_no_trans = np.random.multivariate_normal(mu_given, V_given, no_samples).T\n",
    "\n",
    "# method 2: draw sample from standard normal distribution, with mu = 0, variance = 1\n",
    "# then, transform to the target normal distribution, where mu = mu_given, variance = V_given\n",
    "# Definition: target normal distribution, Ng = mu_given + EN, where EE^T = V and N is a standard normal random variable\n",
    "\n",
    "# Cholesky decompisition to get EE^T\n",
    "E = np.linalg.cholesky(V_given)\n",
    "\n",
    "X_with_trans, Y_with_trans = np.zeros(no_samples), np.zeros(no_samples)   #X and Y points storing result of method 2\n",
    "for i in range(no_samples):\n",
    "    N   = np.array(np.random.multivariate_normal(mu_std, V_std, 1)).T\n",
    "    Ng  = mu_given + np.dot(E, N).T[0]\n",
    "\n",
    "    X_with_trans[i] = Ng[0]\n",
    "    Y_with_trans[i] = Ng[1]\n",
    "\n",
    "plt.plot(X_no_trans, Y_no_trans, 'gx', label = 'bivariate normal: no transformation')\n",
    "plt.plot(X_with_trans, Y_with_trans, 'r*', label = 'bivariate normal: with transformation')\n",
    "plt.legend(loc = 'best', fontsize = 20)\n",
    "\n",
    "# plot the contour and surface of the given 2D Gaussian\n",
    "# create a 2D meshgrid\n",
    "delta   = 0.025\n",
    "left_b  = -5.\n",
    "right_b = 5.\n",
    "x       = np.arange(left_b, right_b, delta)\n",
    "y       = np.arange(left_b, right_b, delta)\n",
    "X, Y    = np.meshgrid(x, y)\n",
    "\n",
    "# create the bivariate normal distribution for equal shape X, Y.\n",
    "Z = mlab.bivariate_normal(X, Y, sigmax = V_given[0, 0], sigmay = V_given[1, 1], \n",
    "                          mux = mu_given[0], muy = mu_given[1], sigmaxy = V_given[1, 0])\n",
    "\n",
    "# # plot the contour\n",
    "fig = plt.figure()\n",
    "plt.contour(X, Y, Z)\n",
    "plt.grid()\n",
    "\n",
    "# plot the surface of the bivariate_normal\n",
    "fig = plt.figure()\n",
    "ax = fig.gca(projection='3d')\n",
    "\n",
    "surf = ax.plot_surface(X, Y, Z, cmap = cm.coolwarm)\n",
    "ax.set_xlabel('x', fontsize=10)\n",
    "ax.set_ylabel('y', fontsize=10)\n",
    "ax.set_zlabel('bivariate normal distribution', fontsize=15)\n",
    "\n",
    "plt.show()\n"
   ]
  },
  {
   "cell_type": "code",
   "execution_count": null,
   "metadata": {},
   "outputs": [],
   "source": []
  }
 ],
 "metadata": {
  "kernelspec": {
   "display_name": "Python 3",
   "language": "python",
   "name": "python3"
  },
  "language_info": {
   "codemirror_mode": {
    "name": "ipython",
    "version": 3
   },
   "file_extension": ".py",
   "mimetype": "text/x-python",
   "name": "python",
   "nbconvert_exporter": "python",
   "pygments_lexer": "ipython3",
   "version": "3.7.3"
  }
 },
 "nbformat": 4,
 "nbformat_minor": 2
}
